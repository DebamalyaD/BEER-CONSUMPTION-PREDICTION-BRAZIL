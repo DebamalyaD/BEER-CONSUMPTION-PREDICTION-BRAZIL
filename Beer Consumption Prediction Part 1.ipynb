{
 "cells": [
  {
   "cell_type": "code",
   "execution_count": 1,
   "id": "f457f405",
   "metadata": {},
   "outputs": [],
   "source": [
    "import pandas as pd\n",
    "import numpy as np\n",
    "import seaborn as sns\n",
    "import re\n",
    "from datetime import datetime\n",
    "import matplotlib.pyplot as plt\n",
    "from sklearn.model_selection import train_test_split\n",
    "from sklearn.preprocessing import StandardScaler\n",
    "from sklearn.metrics import r2_score\n",
    "import warnings \n",
    "warnings.filterwarnings(\"ignore\")"
   ]
  },
  {
   "cell_type": "code",
   "execution_count": 2,
   "id": "6c5a0e89",
   "metadata": {},
   "outputs": [],
   "source": [
    "beer =pd.read_csv(\"Consumo_cerveja.csv\")"
   ]
  },
  {
   "cell_type": "code",
   "execution_count": 3,
   "id": "47428752",
   "metadata": {},
   "outputs": [
    {
     "data": {
      "text/plain": [
       "(941, 7)"
      ]
     },
     "execution_count": 3,
     "metadata": {},
     "output_type": "execute_result"
    }
   ],
   "source": [
    "beer.shape"
   ]
  },
  {
   "cell_type": "code",
   "execution_count": 4,
   "id": "426d3c61",
   "metadata": {},
   "outputs": [
    {
     "name": "stdout",
     "output_type": "stream",
     "text": [
      "<class 'pandas.core.frame.DataFrame'>\n",
      "RangeIndex: 941 entries, 0 to 940\n",
      "Data columns (total 7 columns):\n",
      " #   Column                       Non-Null Count  Dtype  \n",
      "---  ------                       --------------  -----  \n",
      " 0   Data                         365 non-null    object \n",
      " 1   Temperatura Media (C)        365 non-null    object \n",
      " 2   Temperatura Minima (C)       365 non-null    object \n",
      " 3   Temperatura Maxima (C)       365 non-null    object \n",
      " 4   Precipitacao (mm)            365 non-null    object \n",
      " 5   Final de Semana              365 non-null    float64\n",
      " 6   Consumo de cerveja (litros)  365 non-null    float64\n",
      "dtypes: float64(2), object(5)\n",
      "memory usage: 51.6+ KB\n"
     ]
    }
   ],
   "source": [
    "beer.info()"
   ]
  },
  {
   "cell_type": "code",
   "execution_count": 5,
   "id": "09f94e4e",
   "metadata": {},
   "outputs": [
    {
     "data": {
      "text/html": [
       "<div>\n",
       "<style scoped>\n",
       "    .dataframe tbody tr th:only-of-type {\n",
       "        vertical-align: middle;\n",
       "    }\n",
       "\n",
       "    .dataframe tbody tr th {\n",
       "        vertical-align: top;\n",
       "    }\n",
       "\n",
       "    .dataframe thead th {\n",
       "        text-align: right;\n",
       "    }\n",
       "</style>\n",
       "<table border=\"1\" class=\"dataframe\">\n",
       "  <thead>\n",
       "    <tr style=\"text-align: right;\">\n",
       "      <th></th>\n",
       "      <th>Data</th>\n",
       "      <th>Temperatura Media (C)</th>\n",
       "      <th>Temperatura Minima (C)</th>\n",
       "      <th>Temperatura Maxima (C)</th>\n",
       "      <th>Precipitacao (mm)</th>\n",
       "      <th>Final de Semana</th>\n",
       "      <th>Consumo de cerveja (litros)</th>\n",
       "    </tr>\n",
       "  </thead>\n",
       "  <tbody>\n",
       "    <tr>\n",
       "      <th>0</th>\n",
       "      <td>2015-01-01</td>\n",
       "      <td>27,3</td>\n",
       "      <td>23,9</td>\n",
       "      <td>32,5</td>\n",
       "      <td>0</td>\n",
       "      <td>0.0</td>\n",
       "      <td>25.461</td>\n",
       "    </tr>\n",
       "    <tr>\n",
       "      <th>1</th>\n",
       "      <td>2015-01-02</td>\n",
       "      <td>27,02</td>\n",
       "      <td>24,5</td>\n",
       "      <td>33,5</td>\n",
       "      <td>0</td>\n",
       "      <td>0.0</td>\n",
       "      <td>28.972</td>\n",
       "    </tr>\n",
       "    <tr>\n",
       "      <th>2</th>\n",
       "      <td>2015-01-03</td>\n",
       "      <td>24,82</td>\n",
       "      <td>22,4</td>\n",
       "      <td>29,9</td>\n",
       "      <td>0</td>\n",
       "      <td>1.0</td>\n",
       "      <td>30.814</td>\n",
       "    </tr>\n",
       "    <tr>\n",
       "      <th>3</th>\n",
       "      <td>2015-01-04</td>\n",
       "      <td>23,98</td>\n",
       "      <td>21,5</td>\n",
       "      <td>28,6</td>\n",
       "      <td>1,2</td>\n",
       "      <td>1.0</td>\n",
       "      <td>29.799</td>\n",
       "    </tr>\n",
       "    <tr>\n",
       "      <th>4</th>\n",
       "      <td>2015-01-05</td>\n",
       "      <td>23,82</td>\n",
       "      <td>21</td>\n",
       "      <td>28,3</td>\n",
       "      <td>0</td>\n",
       "      <td>0.0</td>\n",
       "      <td>28.900</td>\n",
       "    </tr>\n",
       "  </tbody>\n",
       "</table>\n",
       "</div>"
      ],
      "text/plain": [
       "         Data Temperatura Media (C) Temperatura Minima (C)  \\\n",
       "0  2015-01-01                  27,3                   23,9   \n",
       "1  2015-01-02                 27,02                   24,5   \n",
       "2  2015-01-03                 24,82                   22,4   \n",
       "3  2015-01-04                 23,98                   21,5   \n",
       "4  2015-01-05                 23,82                     21   \n",
       "\n",
       "  Temperatura Maxima (C) Precipitacao (mm)  Final de Semana  \\\n",
       "0                   32,5                 0              0.0   \n",
       "1                   33,5                 0              0.0   \n",
       "2                   29,9                 0              1.0   \n",
       "3                   28,6               1,2              1.0   \n",
       "4                   28,3                 0              0.0   \n",
       "\n",
       "   Consumo de cerveja (litros)  \n",
       "0                       25.461  \n",
       "1                       28.972  \n",
       "2                       30.814  \n",
       "3                       29.799  \n",
       "4                       28.900  "
      ]
     },
     "execution_count": 5,
     "metadata": {},
     "output_type": "execute_result"
    }
   ],
   "source": [
    "beer.head()"
   ]
  },
  {
   "cell_type": "code",
   "execution_count": 6,
   "id": "ba0a5979",
   "metadata": {},
   "outputs": [],
   "source": [
    "beer= beer.rename(columns = {\"Data\":\"Date\",\"Consumo de cerveja (litros)\":\"Consumption in Litres\"})"
   ]
  },
  {
   "cell_type": "code",
   "execution_count": 7,
   "id": "fbc28a0a",
   "metadata": {},
   "outputs": [
    {
     "data": {
      "text/html": [
       "<div>\n",
       "<style scoped>\n",
       "    .dataframe tbody tr th:only-of-type {\n",
       "        vertical-align: middle;\n",
       "    }\n",
       "\n",
       "    .dataframe tbody tr th {\n",
       "        vertical-align: top;\n",
       "    }\n",
       "\n",
       "    .dataframe thead th {\n",
       "        text-align: right;\n",
       "    }\n",
       "</style>\n",
       "<table border=\"1\" class=\"dataframe\">\n",
       "  <thead>\n",
       "    <tr style=\"text-align: right;\">\n",
       "      <th></th>\n",
       "      <th>Date</th>\n",
       "      <th>Temperatura Media (C)</th>\n",
       "      <th>Temperatura Minima (C)</th>\n",
       "      <th>Temperatura Maxima (C)</th>\n",
       "      <th>Precipitacao (mm)</th>\n",
       "      <th>Final de Semana</th>\n",
       "      <th>Consumption in Litres</th>\n",
       "    </tr>\n",
       "  </thead>\n",
       "  <tbody>\n",
       "    <tr>\n",
       "      <th>0</th>\n",
       "      <td>2015-01-01</td>\n",
       "      <td>27,3</td>\n",
       "      <td>23,9</td>\n",
       "      <td>32,5</td>\n",
       "      <td>0</td>\n",
       "      <td>0.0</td>\n",
       "      <td>25.461</td>\n",
       "    </tr>\n",
       "    <tr>\n",
       "      <th>1</th>\n",
       "      <td>2015-01-02</td>\n",
       "      <td>27,02</td>\n",
       "      <td>24,5</td>\n",
       "      <td>33,5</td>\n",
       "      <td>0</td>\n",
       "      <td>0.0</td>\n",
       "      <td>28.972</td>\n",
       "    </tr>\n",
       "    <tr>\n",
       "      <th>2</th>\n",
       "      <td>2015-01-03</td>\n",
       "      <td>24,82</td>\n",
       "      <td>22,4</td>\n",
       "      <td>29,9</td>\n",
       "      <td>0</td>\n",
       "      <td>1.0</td>\n",
       "      <td>30.814</td>\n",
       "    </tr>\n",
       "    <tr>\n",
       "      <th>3</th>\n",
       "      <td>2015-01-04</td>\n",
       "      <td>23,98</td>\n",
       "      <td>21,5</td>\n",
       "      <td>28,6</td>\n",
       "      <td>1,2</td>\n",
       "      <td>1.0</td>\n",
       "      <td>29.799</td>\n",
       "    </tr>\n",
       "    <tr>\n",
       "      <th>4</th>\n",
       "      <td>2015-01-05</td>\n",
       "      <td>23,82</td>\n",
       "      <td>21</td>\n",
       "      <td>28,3</td>\n",
       "      <td>0</td>\n",
       "      <td>0.0</td>\n",
       "      <td>28.900</td>\n",
       "    </tr>\n",
       "  </tbody>\n",
       "</table>\n",
       "</div>"
      ],
      "text/plain": [
       "         Date Temperatura Media (C) Temperatura Minima (C)  \\\n",
       "0  2015-01-01                  27,3                   23,9   \n",
       "1  2015-01-02                 27,02                   24,5   \n",
       "2  2015-01-03                 24,82                   22,4   \n",
       "3  2015-01-04                 23,98                   21,5   \n",
       "4  2015-01-05                 23,82                     21   \n",
       "\n",
       "  Temperatura Maxima (C) Precipitacao (mm)  Final de Semana  \\\n",
       "0                   32,5                 0              0.0   \n",
       "1                   33,5                 0              0.0   \n",
       "2                   29,9                 0              1.0   \n",
       "3                   28,6               1,2              1.0   \n",
       "4                   28,3                 0              0.0   \n",
       "\n",
       "   Consumption in Litres  \n",
       "0                 25.461  \n",
       "1                 28.972  \n",
       "2                 30.814  \n",
       "3                 29.799  \n",
       "4                 28.900  "
      ]
     },
     "execution_count": 7,
     "metadata": {},
     "output_type": "execute_result"
    }
   ],
   "source": [
    "beer.head()"
   ]
  },
  {
   "cell_type": "code",
   "execution_count": 8,
   "id": "1e754c81",
   "metadata": {},
   "outputs": [
    {
     "data": {
      "text/plain": [
       "Date                      61.211477\n",
       "Temperatura Media (C)     61.211477\n",
       "Temperatura Minima (C)    61.211477\n",
       "Temperatura Maxima (C)    61.211477\n",
       "Precipitacao (mm)         61.211477\n",
       "Final de Semana           61.211477\n",
       "Consumption in Litres     61.211477\n",
       "dtype: float64"
      ]
     },
     "execution_count": 8,
     "metadata": {},
     "output_type": "execute_result"
    }
   ],
   "source": [
    "beer.isnull().sum()/len(beer.index)*100"
   ]
  },
  {
   "cell_type": "code",
   "execution_count": 9,
   "id": "fc1daeb3",
   "metadata": {},
   "outputs": [
    {
     "data": {
      "text/html": [
       "<div>\n",
       "<style scoped>\n",
       "    .dataframe tbody tr th:only-of-type {\n",
       "        vertical-align: middle;\n",
       "    }\n",
       "\n",
       "    .dataframe tbody tr th {\n",
       "        vertical-align: top;\n",
       "    }\n",
       "\n",
       "    .dataframe thead th {\n",
       "        text-align: right;\n",
       "    }\n",
       "</style>\n",
       "<table border=\"1\" class=\"dataframe\">\n",
       "  <thead>\n",
       "    <tr style=\"text-align: right;\">\n",
       "      <th></th>\n",
       "      <th>Date</th>\n",
       "      <th>Temperatura Media (C)</th>\n",
       "      <th>Temperatura Minima (C)</th>\n",
       "      <th>Temperatura Maxima (C)</th>\n",
       "      <th>Precipitacao (mm)</th>\n",
       "      <th>Final de Semana</th>\n",
       "      <th>Consumption in Litres</th>\n",
       "    </tr>\n",
       "  </thead>\n",
       "  <tbody>\n",
       "    <tr>\n",
       "      <th>936</th>\n",
       "      <td>NaN</td>\n",
       "      <td>NaN</td>\n",
       "      <td>NaN</td>\n",
       "      <td>NaN</td>\n",
       "      <td>NaN</td>\n",
       "      <td>NaN</td>\n",
       "      <td>NaN</td>\n",
       "    </tr>\n",
       "    <tr>\n",
       "      <th>937</th>\n",
       "      <td>NaN</td>\n",
       "      <td>NaN</td>\n",
       "      <td>NaN</td>\n",
       "      <td>NaN</td>\n",
       "      <td>NaN</td>\n",
       "      <td>NaN</td>\n",
       "      <td>NaN</td>\n",
       "    </tr>\n",
       "    <tr>\n",
       "      <th>938</th>\n",
       "      <td>NaN</td>\n",
       "      <td>NaN</td>\n",
       "      <td>NaN</td>\n",
       "      <td>NaN</td>\n",
       "      <td>NaN</td>\n",
       "      <td>NaN</td>\n",
       "      <td>NaN</td>\n",
       "    </tr>\n",
       "    <tr>\n",
       "      <th>939</th>\n",
       "      <td>NaN</td>\n",
       "      <td>NaN</td>\n",
       "      <td>NaN</td>\n",
       "      <td>NaN</td>\n",
       "      <td>NaN</td>\n",
       "      <td>NaN</td>\n",
       "      <td>NaN</td>\n",
       "    </tr>\n",
       "    <tr>\n",
       "      <th>940</th>\n",
       "      <td>NaN</td>\n",
       "      <td>NaN</td>\n",
       "      <td>NaN</td>\n",
       "      <td>NaN</td>\n",
       "      <td>NaN</td>\n",
       "      <td>NaN</td>\n",
       "      <td>NaN</td>\n",
       "    </tr>\n",
       "  </tbody>\n",
       "</table>\n",
       "</div>"
      ],
      "text/plain": [
       "    Date Temperatura Media (C) Temperatura Minima (C) Temperatura Maxima (C)  \\\n",
       "936  NaN                   NaN                    NaN                    NaN   \n",
       "937  NaN                   NaN                    NaN                    NaN   \n",
       "938  NaN                   NaN                    NaN                    NaN   \n",
       "939  NaN                   NaN                    NaN                    NaN   \n",
       "940  NaN                   NaN                    NaN                    NaN   \n",
       "\n",
       "    Precipitacao (mm)  Final de Semana  Consumption in Litres  \n",
       "936               NaN              NaN                    NaN  \n",
       "937               NaN              NaN                    NaN  \n",
       "938               NaN              NaN                    NaN  \n",
       "939               NaN              NaN                    NaN  \n",
       "940               NaN              NaN                    NaN  "
      ]
     },
     "execution_count": 9,
     "metadata": {},
     "output_type": "execute_result"
    }
   ],
   "source": [
    "beer.tail()"
   ]
  },
  {
   "cell_type": "code",
   "execution_count": 10,
   "id": "a0513325",
   "metadata": {},
   "outputs": [],
   "source": [
    "# We can see that the below rows are empty cells and as all columns we dont have Ny values and we have same number of missing value\n",
    "#from the missing value percntage"
   ]
  },
  {
   "cell_type": "code",
   "execution_count": 11,
   "id": "114b7b8a",
   "metadata": {},
   "outputs": [
    {
     "data": {
      "text/html": [
       "<div>\n",
       "<style scoped>\n",
       "    .dataframe tbody tr th:only-of-type {\n",
       "        vertical-align: middle;\n",
       "    }\n",
       "\n",
       "    .dataframe tbody tr th {\n",
       "        vertical-align: top;\n",
       "    }\n",
       "\n",
       "    .dataframe thead th {\n",
       "        text-align: right;\n",
       "    }\n",
       "</style>\n",
       "<table border=\"1\" class=\"dataframe\">\n",
       "  <thead>\n",
       "    <tr style=\"text-align: right;\">\n",
       "      <th></th>\n",
       "      <th>Date</th>\n",
       "      <th>Temperatura Media (C)</th>\n",
       "      <th>Temperatura Minima (C)</th>\n",
       "      <th>Temperatura Maxima (C)</th>\n",
       "      <th>Precipitacao (mm)</th>\n",
       "      <th>Final de Semana</th>\n",
       "      <th>Consumption in Litres</th>\n",
       "    </tr>\n",
       "  </thead>\n",
       "  <tbody>\n",
       "  </tbody>\n",
       "</table>\n",
       "</div>"
      ],
      "text/plain": [
       "Empty DataFrame\n",
       "Columns: [Date, Temperatura Media (C), Temperatura Minima (C), Temperatura Maxima (C), Precipitacao (mm), Final de Semana, Consumption in Litres]\n",
       "Index: []"
      ]
     },
     "execution_count": 11,
     "metadata": {},
     "output_type": "execute_result"
    }
   ],
   "source": [
    "beer[beer[\"Date\"]==\"NaN\"]"
   ]
  },
  {
   "cell_type": "code",
   "execution_count": 12,
   "id": "ea53420d",
   "metadata": {},
   "outputs": [
    {
     "name": "stdout",
     "output_type": "stream",
     "text": [
      "['2015-01-01' '2015-01-02' '2015-01-03' '2015-01-04' '2015-01-05'\n",
      " '2015-01-06' '2015-01-07' '2015-01-08' '2015-01-09' '2015-01-10'\n",
      " '2015-01-11' '2015-01-12' '2015-01-13' '2015-01-14' '2015-01-15'\n",
      " '2015-01-16' '2015-01-17' '2015-01-18' '2015-01-19' '2015-01-20'\n",
      " '2015-01-21' '2015-01-22' '2015-01-23' '2015-01-24' '2015-01-25'\n",
      " '2015-01-26' '2015-01-27' '2015-01-28' '2015-01-29' '2015-01-30'\n",
      " '2015-01-31' '2015-02-01' '2015-02-02' '2015-02-03' '2015-02-04'\n",
      " '2015-02-05' '2015-02-06' '2015-02-07' '2015-02-08' '2015-02-09'\n",
      " '2015-02-10' '2015-02-11' '2015-02-12' '2015-02-13' '2015-02-14'\n",
      " '2015-02-15' '2015-02-16' '2015-02-17' '2015-02-18' '2015-02-19'\n",
      " '2015-02-20' '2015-02-21' '2015-02-22' '2015-02-23' '2015-02-24'\n",
      " '2015-02-25' '2015-02-26' '2015-02-27' '2015-02-28' '2015-03-01'\n",
      " '2015-03-02' '2015-03-03' '2015-03-04' '2015-03-05' '2015-03-06'\n",
      " '2015-03-07' '2015-03-08' '2015-03-09' '2015-03-10' '2015-03-11'\n",
      " '2015-03-12' '2015-03-13' '2015-03-14' '2015-03-15' '2015-03-16'\n",
      " '2015-03-17' '2015-03-18' '2015-03-19' '2015-03-20' '2015-03-21'\n",
      " '2015-03-22' '2015-03-23' '2015-03-24' '2015-03-25' '2015-03-26'\n",
      " '2015-03-27' '2015-03-28' '2015-03-29' '2015-03-30' '2015-03-31'\n",
      " '2015-04-01' '2015-04-02' '2015-04-03' '2015-04-04' '2015-04-05'\n",
      " '2015-04-06' '2015-04-07' '2015-04-08' '2015-04-09' '2015-04-10'\n",
      " '2015-04-11' '2015-04-12' '2015-04-13' '2015-04-14' '2015-04-15'\n",
      " '2015-04-16' '2015-04-17' '2015-04-18' '2015-04-19' '2015-04-20'\n",
      " '2015-04-21' '2015-04-22' '2015-04-23' '2015-04-24' '2015-04-25'\n",
      " '2015-04-26' '2015-04-27' '2015-04-28' '2015-04-29' '2015-04-30'\n",
      " '2015-05-01' '2015-05-02' '2015-05-03' '2015-05-04' '2015-05-05'\n",
      " '2015-05-06' '2015-05-07' '2015-05-08' '2015-05-09' '2015-05-10'\n",
      " '2015-05-11' '2015-05-12' '2015-05-13' '2015-05-14' '2015-05-15'\n",
      " '2015-05-16' '2015-05-17' '2015-05-18' '2015-05-19' '2015-05-20'\n",
      " '2015-05-21' '2015-05-22' '2015-05-23' '2015-05-24' '2015-05-25'\n",
      " '2015-05-26' '2015-05-27' '2015-05-28' '2015-05-29' '2015-05-30'\n",
      " '2015-05-31' '2015-06-01' '2015-06-02' '2015-06-03' '2015-06-04'\n",
      " '2015-06-05' '2015-06-06' '2015-06-07' '2015-06-08' '2015-06-09'\n",
      " '2015-06-10' '2015-06-11' '2015-06-12' '2015-06-13' '2015-06-14'\n",
      " '2015-06-15' '2015-06-16' '2015-06-17' '2015-06-18' '2015-06-19'\n",
      " '2015-06-20' '2015-06-21' '2015-06-22' '2015-06-23' '2015-06-24'\n",
      " '2015-06-25' '2015-06-26' '2015-06-27' '2015-06-28' '2015-06-29'\n",
      " '2015-06-30' '2015-07-01' '2015-07-02' '2015-07-03' '2015-07-04'\n",
      " '2015-07-05' '2015-07-06' '2015-07-07' '2015-07-08' '2015-07-09'\n",
      " '2015-07-10' '2015-07-11' '2015-07-12' '2015-07-13' '2015-07-14'\n",
      " '2015-07-15' '2015-07-16' '2015-07-17' '2015-07-18' '2015-07-19'\n",
      " '2015-07-20' '2015-07-21' '2015-07-22' '2015-07-23' '2015-07-24'\n",
      " '2015-07-25' '2015-07-26' '2015-07-27' '2015-07-28' '2015-07-29'\n",
      " '2015-07-30' '2015-07-31' '2015-08-01' '2015-08-02' '2015-08-03'\n",
      " '2015-08-04' '2015-08-05' '2015-08-06' '2015-08-07' '2015-08-08'\n",
      " '2015-08-09' '2015-08-10' '2015-08-11' '2015-08-12' '2015-08-13'\n",
      " '2015-08-14' '2015-08-15' '2015-08-16' '2015-08-17' '2015-08-18'\n",
      " '2015-08-19' '2015-08-20' '2015-08-21' '2015-08-22' '2015-08-23'\n",
      " '2015-08-24' '2015-08-25' '2015-08-26' '2015-08-27' '2015-08-28'\n",
      " '2015-08-29' '2015-08-30' '2015-08-31' '2015-09-01' '2015-09-02'\n",
      " '2015-09-03' '2015-09-04' '2015-09-05' '2015-09-06' '2015-09-07'\n",
      " '2015-09-08' '2015-09-09' '2015-09-10' '2015-09-11' '2015-09-12'\n",
      " '2015-09-13' '2015-09-14' '2015-09-15' '2015-09-16' '2015-09-17'\n",
      " '2015-09-18' '2015-09-19' '2015-09-20' '2015-09-21' '2015-09-22'\n",
      " '2015-09-23' '2015-09-24' '2015-09-25' '2015-09-26' '2015-09-27'\n",
      " '2015-09-28' '2015-09-29' '2015-09-30' '2015-10-01' '2015-10-02'\n",
      " '2015-10-03' '2015-10-04' '2015-10-05' '2015-10-06' '2015-10-07'\n",
      " '2015-10-08' '2015-10-09' '2015-10-10' '2015-10-11' '2015-10-12'\n",
      " '2015-10-13' '2015-10-14' '2015-10-15' '2015-10-16' '2015-10-17'\n",
      " '2015-10-18' '2015-10-19' '2015-10-20' '2015-10-21' '2015-10-22'\n",
      " '2015-10-23' '2015-10-24' '2015-10-25' '2015-10-26' '2015-10-27'\n",
      " '2015-10-28' '2015-10-29' '2015-10-30' '2015-10-31' '2015-11-01'\n",
      " '2015-11-02' '2015-11-03' '2015-11-04' '2015-11-05' '2015-11-06'\n",
      " '2015-11-07' '2015-11-08' '2015-11-09' '2015-11-10' '2015-11-11'\n",
      " '2015-11-12' '2015-11-13' '2015-11-14' '2015-11-15' '2015-11-16'\n",
      " '2015-11-17' '2015-11-18' '2015-11-19' '2015-11-20' '2015-11-21'\n",
      " '2015-11-22' '2015-11-23' '2015-11-24' '2015-11-25' '2015-11-26'\n",
      " '2015-11-27' '2015-11-28' '2015-11-29' '2015-11-30' '2015-12-01'\n",
      " '2015-12-02' '2015-12-03' '2015-12-04' '2015-12-05' '2015-12-06'\n",
      " '2015-12-07' '2015-12-08' '2015-12-09' '2015-12-10' '2015-12-11'\n",
      " '2015-12-12' '2015-12-13' '2015-12-14' '2015-12-15' '2015-12-16'\n",
      " '2015-12-17' '2015-12-18' '2015-12-19' '2015-12-20' '2015-12-21'\n",
      " '2015-12-22' '2015-12-23' '2015-12-24' '2015-12-25' '2015-12-26'\n",
      " '2015-12-27' '2015-12-28' '2015-12-29' '2015-12-30' '2015-12-31' nan]\n",
      "['27,3' '27,02' '24,82' '23,98' '23,82' '23,78' '24' '24,9' '28,2' '26,76'\n",
      " '27,62' '25,96' '25,52' '25,86' '26,5' '28,86' '28,26' '28,22' '27,68'\n",
      " '25,32' '21,74' '21,04' '23,12' '24,4' '22,4' '23,6' '25,68' '25' '22,8'\n",
      " '21,64' '24,16' '22,48' '23,16' '22,12' '20,28' '21,06' '21,86' '22,76'\n",
      " '23,92' '25,38' '27,66' '25,54' '24,32' '22,9' '21,6' '22,22' '24,72'\n",
      " '25,2' '24,44' '25,4' '24,3' '22,24' '24,1' '24,64' '21,26' '22,16'\n",
      " '23,68' '24,42' '22,6' '21,92' '22,2' '21,36' '22,88' '22,26' '22,34'\n",
      " '22,08' '21,24' '21,78' '20,88' '19,7' '19,88' '20,98' '21,56' '22,98'\n",
      " '23,32' '23,28' '22,14' '22,5' '23,14' '22,52' '20,92' '21,02' '22,36'\n",
      " '22,82' '17,38' '18,68' '19,4' '20,46' '19,92' '21,7' '21,94' '21,42'\n",
      " '23,36' '20,06' '21,2' '19,18' '19,04' '19,82' '20,26' '18,66' '16,22'\n",
      " '17,34' '19,26' '19,96' '18,14' '17,76' '17,8' '16,14' '18,04' '16,94'\n",
      " '17,86' '17,12' '16,34' '16,72' '16,84' '17,18' '18,26' '18,6' '18,64'\n",
      " '18,74' '19,46' '19,94' '21,8' '22,06' '21,28' '22,94' '18,56' '17,68'\n",
      " '17,52' '16,28' '16,04' '17,94' '18,36' '18,32' '19,66' '20,62' '20,86'\n",
      " '20,32' '20,54' '22,72' '18,8' '21,1' '16,02' '14,82' '19,8' '14,66'\n",
      " '15,82' '17,32' '18,54' '19,02' '14,54' '14,72' '15,26' '15,34' '15,48'\n",
      " '17,2' '19,36' '17,78' '14,94' '12,9' '15,78' '16,8' '17,02' '17,54'\n",
      " '19,24' '17,46' '23,3' '20,18' '19,14' '20,2' '19,98' '20,56' '14,52'\n",
      " '18,46' '15,9' '16,82' '16,6' '16,46' '16,2' '16,76' '19,78' '20,1'\n",
      " '21,16' '20,96' '19,62' '19,6' '20,12' '20,42' '21,44' '21,58' '21,3'\n",
      " '20,74' '18,08' '20,22' '16,98' '18,92' '16,1' '24,54' '19,3' '16,66'\n",
      " '16,12' '16,48' '18,72' '17,08' '18,82' '16,88' '14' '14,18' '21,18'\n",
      " '25,24' '27,26' '28,06' '28' '25,7' '26,14' '28,3' '23,24' '20,58' '22,3'\n",
      " '21,22' '21,52' '24,74' '17,36' '24,5' '26,56' '24,52' '23,06' '21,4'\n",
      " '23,62' '28,12' '26,24' '19,86' '26,3' '24,62' '19,9' '20,5' '17,64' '22'\n",
      " '23,86' '23,18' '21,82' '19,76' '18,3' '20,24' '23,72' '26,2' '22,78'\n",
      " '25,06' '21,76' '25,5' '26,16' '19,44' '20,8' '22,28' '23,7' '22,38'\n",
      " '19,1' '22,1' '22,44' '24,8' '20,04' '23,96' '24,04' '26,28' '25,66'\n",
      " '22,04' '26,42' '23,74' '22,84' '24,6' '27,46' '23,58' '23,34' '22,64'\n",
      " '21,68' '21,38' '24,76' nan]\n",
      "['23,9' '24,5' '22,4' '21,5' '21' '20,1' '19,5' '21,9' '22,1' '22,2'\n",
      " '21,4' '21,2' '21,3' '22,3' '22' '23,4' '22,7' '23,3' '19,2' '18,5' '19'\n",
      " '18,1' '18,9' '20,5' '20,9' '20,6' '20,7' '18' '19,9' '19,1' '17,9'\n",
      " '17,3' '17,1' '19,3' '23,1' '22,5' '21,1' '20' '18,8' '19,7' '21,7'\n",
      " '20,4' '18,2' '17,2' '19,4' '18,6' '17,4' '18,3' '16,3' '16,1' '14,7'\n",
      " '15,9' '17' '16,8' '18,4' '20,3' '17,5' '13,4' '15,8' '16,6' '13,9'\n",
      " '13,7' '15,7' '14,2' '13,6' '13,2' '15,4' '15,3' '13,1' '15,2' '15'\n",
      " '14,6' '14,1' '13,8' '15,5' '16,9' '12,1' '12,5' '12,6' '14,4' '12'\n",
      " '10,6' '11,2' '11' '16,2' '15,1' '15,6' '10,9' '11,3' '13,3' '14,9' '14'\n",
      " '16' '16,7' '12,8' '14,3' '11,6' '14,8' '13,5' '12,2' '13' '17,6' '19,8'\n",
      " '19,6' '17,7' '18,7' '20,8' '16,4' '20,2' '17,8' nan]\n",
      "['32,5' '33,5' '29,9' '28,6' '28,3' '30,5' '33,7' '32,8' '34' '34,2'\n",
      " '34,8' '35,4' '32,7' '35,8' '35,6' '36,5' '30,9' '26,1' '29,4' '30'\n",
      " '28,7' '29,2' '26,9' '24,3' '28' '26,5' '31,1' '23,7' '22,9' '25,4'\n",
      " '29,5' '30,7' '29' '30,4' '32,1' '31,6' '27,6' '27,3' '26,4' '28,5'\n",
      " '28,2' '30,8' '31,4' '31,9' '29,3' '30,3' '27,7' '26,3' '26,6' '24,4'\n",
      " '23,3' '28,1' '27,9' '26,8' '25,6' '24,1' '27,1' '25,3' '22,8' '29,8'\n",
      " '25,9' '27,5' '26,2' '27,2' '20' '25,5' '28,4' '25,7' '28,8' '27,4'\n",
      " '26,7' '27' '21,6' '24,9' '22,7' '18,7' '22' '22,3' '20,8' '20,4' '21,7'\n",
      " '19,2' '21' '20,6' '18,9' '21,5' '22,4' '21,3' '25' '24,8' '23,2' '21,9'\n",
      " '18,4' '18' '17,5' '26' '23,5' '23,4' '18,1' '25,1' '17,7' '24,6' '17,4'\n",
      " '20,9' '21,8' '20,5' '19,9' '14,5' '20,2' '19,8' '25,8' '23,8' '21,4'\n",
      " '16,1' '17,9' '24,2' '24,5' '28,9' '27,8' '19,6' '22,1' '24' '32' '32,2'\n",
      " '19,3' '18,5' '15,6' '22,5' '30,1' '32,6' '33' '34,5' '35,5' '33,3'\n",
      " '35,3' '30,6' '23,6' '24,7' '29,6' '35,7' '21,2' '23,9' '31,2' '31,8'\n",
      " '29,7' '22,6' '29,1' '31' '31,3' '32,4' '31,5' nan]\n",
      "['0' '1,2' '12,2' '48,6' '4,4' '3,4' '0,8' '1,6' '3' '2' '3,7' '0,6' '31'\n",
      " '3,6' '13' '20,8' '4,9' '0,2' '4,5' '3,2' '5,6' '18,4' '16,7' '10,4'\n",
      " '32,2' '2,2' '17,4' '22,7' '85,3' '13,4' '2,4' '34,4' '38,2' '69,2' '77'\n",
      " '9,7' '9,5' '0,3' '22,4' '24,2' '7,4' '14,7' '1,7' '19,2' '18,6' '1'\n",
      " '7,1' '0,4' '25,4' '37,2' '20,2' '14,6' '9,9' '22,2' '2,8' '1,8' '7,2'\n",
      " '0,5' '9' '3,8' '17,8' '15,2' '16,6' '2,6' '25' '0,1' '23,6' '58' '31,8'\n",
      " '27,6' '28,6' '27,2' '7,6' '28,4' '39,6' '6,8' '39,3' '16,4' '8' '14,1'\n",
      " '13,6' '7' '23,4' '47,8' '4' '1,5' '1,3' '8,4' '43' '39' '94,8' '10,3'\n",
      " '6,3' nan]\n",
      "[ 0.  1. nan]\n",
      "[25.461 28.972 30.814 29.799 28.9   28.218 29.732 28.397 24.886 37.937\n",
      " 36.254 25.743 26.99  31.825 25.724 29.938 37.69  30.524 29.265 35.127\n",
      " 29.13  25.795 21.784 28.348 31.088 21.52  29.972 22.603 22.696 26.845\n",
      " 27.03  32.057 24.097 31.655 24.738 19.95  22.821 28.893 29.926 24.062\n",
      " 21.137 26.805 26.389 24.219 30.231 24.968 25.343 17.399 21.392 22.922\n",
      " 24.567 30.943 30.825 25.692 26.959 25.366 22.784 26.241 26.467 27.475\n",
      " 28.749 24.146 22.988 30.3   22.654 29.09  24.619 20.016 23.042 22.933\n",
      " 22.409 21.281 28.844 32.872 20.903 26.275 20.167 23.628 24.213 28.631\n",
      " 25.855 21.406 21.617 22.401 27.989 24.974 29.76  26.116 25.85  24.925\n",
      " 21.979 22.116 24.867 33.45  32.713 22.356 21.004 23.362 20.298 24.862\n",
      " 30.505 25.07  22.62  22.001 23.469 21.735 21.593 33.822 28.028 24.304\n",
      " 31.108 19.113 23.198 24.388 27.42  30.479 21.838 20.812 19.761 20.452\n",
      " 17.939 25.272 28.049 25.317 21.826 20.68  19.143 18.146 25.489 23.537\n",
      " 16.956 19.052 17.287 20.3   20.538 23.702 28.411 21.073 24.215 19.525\n",
      " 20.786 20.429 27.25  31.387 26.075 22.162 24.258 24.683 21.245 25.937\n",
      " 26.081 16.228 20.106 21.055 22.772 25.142 31.129 30.498 26.15  21.327\n",
      " 22.008 24.615 22.375 29.607 32.983 19.119 21.029 23.898 24.534 16.748\n",
      " 23.055 28.857 23.022 27.146 17.241 19.463 21.86  24.227 27.594 24.863\n",
      " 20.161 20.824 19.727 14.94  24.632 21.294 18.448 21.237 19.849 20.74\n",
      " 25.698 26.691 33.298 25.64  23.937 28.742 21.748 22.032 24.827 32.473\n",
      " 20.62  21.825 14.343 19.029 21.104 20.738 25.233 18.975 19.64  22.522\n",
      " 24.726 32.467 31.663 25.867 27.724 22.039 26.127 26.58  31.31  33.517\n",
      " 23.181 24.183 24.594 22.61  25.479 29.621 26.272 22.541 23.07  26.021\n",
      " 17.655 23.243 30.177 27.518 23.21  21.092 23.357 17.888 22.217 31.681\n",
      " 31.833 28.441 22.389 20.681 24.222 19.345 21.827 23.566 20.227 17.075\n",
      " 16.977 21.525 21.454 21.814 21.252 20.464 30.775 33.93  26.311 31.836\n",
      " 34.695 29.829 26.362 32.589 30.345 29.411 29.637 32.184 17.731 24.114\n",
      " 28.034 22.664 27.488 24.876 24.679 22.304 30.329 33.182 23.849 33.33\n",
      " 34.496 26.249 26.523 26.793 35.861 27.387 32.666 22.199 24.    27.871\n",
      " 31.139 23.065 26.594 27.657 28.084 27.582 22.634 31.649 35.781 24.429\n",
      " 20.648 22.741 21.479 23.134 20.575 24.33  28.61  28.456 27.964 29.569\n",
      " 29.267 28.647 26.836 29.386 24.609 26.964 23.614 22.96  20.332 30.392\n",
      " 31.933 21.662 21.689 25.119 25.285 28.979 34.382 30.617 20.238 24.529\n",
      " 30.471 28.405 29.513 32.451 32.78  23.375 27.713 27.137 30.74  29.579\n",
      " 29.188 28.131 28.617 21.062 24.337 27.042 32.536 30.127 24.834 26.828\n",
      " 26.468 31.572 26.308 21.955 32.307 26.095 22.309 20.467 22.446    nan]\n"
     ]
    }
   ],
   "source": [
    "for i in beer.columns:\n",
    "    print(beer[i].unique())"
   ]
  },
  {
   "cell_type": "code",
   "execution_count": 13,
   "id": "7a63765e",
   "metadata": {},
   "outputs": [],
   "source": [
    "# Preprocessing \n",
    "\n",
    "beer = beer.dropna()"
   ]
  },
  {
   "cell_type": "code",
   "execution_count": 14,
   "id": "728ade56",
   "metadata": {},
   "outputs": [
    {
     "data": {
      "text/plain": [
       "Date                      0.0\n",
       "Temperatura Media (C)     0.0\n",
       "Temperatura Minima (C)    0.0\n",
       "Temperatura Maxima (C)    0.0\n",
       "Precipitacao (mm)         0.0\n",
       "Final de Semana           0.0\n",
       "Consumption in Litres     0.0\n",
       "dtype: float64"
      ]
     },
     "execution_count": 14,
     "metadata": {},
     "output_type": "execute_result"
    }
   ],
   "source": [
    "beer.isnull().sum()/len(beer.index)*100"
   ]
  },
  {
   "cell_type": "code",
   "execution_count": 15,
   "id": "156ee3a8",
   "metadata": {},
   "outputs": [
    {
     "data": {
      "text/plain": [
       "(365, 7)"
      ]
     },
     "execution_count": 15,
     "metadata": {},
     "output_type": "execute_result"
    }
   ],
   "source": [
    "beer.shape"
   ]
  },
  {
   "cell_type": "code",
   "execution_count": 16,
   "id": "6f059f47",
   "metadata": {},
   "outputs": [],
   "source": [
    "beer[\"Date\"] = pd.to_datetime(beer[\"Date\"])"
   ]
  },
  {
   "cell_type": "code",
   "execution_count": 17,
   "id": "f736c1d0",
   "metadata": {},
   "outputs": [
    {
     "name": "stdout",
     "output_type": "stream",
     "text": [
      "<class 'pandas.core.frame.DataFrame'>\n",
      "Int64Index: 365 entries, 0 to 364\n",
      "Data columns (total 7 columns):\n",
      " #   Column                  Non-Null Count  Dtype         \n",
      "---  ------                  --------------  -----         \n",
      " 0   Date                    365 non-null    datetime64[ns]\n",
      " 1   Temperatura Media (C)   365 non-null    object        \n",
      " 2   Temperatura Minima (C)  365 non-null    object        \n",
      " 3   Temperatura Maxima (C)  365 non-null    object        \n",
      " 4   Precipitacao (mm)       365 non-null    object        \n",
      " 5   Final de Semana         365 non-null    float64       \n",
      " 6   Consumption in Litres   365 non-null    float64       \n",
      "dtypes: datetime64[ns](1), float64(2), object(4)\n",
      "memory usage: 22.8+ KB\n"
     ]
    }
   ],
   "source": [
    "beer.info()"
   ]
  },
  {
   "cell_type": "code",
   "execution_count": 18,
   "id": "3276101b",
   "metadata": {},
   "outputs": [],
   "source": [
    "# Changing the data Types as most of the numeric variables are in Object types\n",
    "\n",
    "l = [\"Temperatura Media (C)\",\"Temperatura Minima (C)\",\"Temperatura Maxima (C)\",\"Precipitacao (mm)\"]\n",
    "for i in l:\n",
    "    beer[i] = beer[i].apply(lambda x: np.float(re.sub(r',','.',x)))"
   ]
  },
  {
   "cell_type": "code",
   "execution_count": 19,
   "id": "a1875b18",
   "metadata": {},
   "outputs": [
    {
     "name": "stdout",
     "output_type": "stream",
     "text": [
      "<class 'pandas.core.frame.DataFrame'>\n",
      "Int64Index: 365 entries, 0 to 364\n",
      "Data columns (total 7 columns):\n",
      " #   Column                  Non-Null Count  Dtype         \n",
      "---  ------                  --------------  -----         \n",
      " 0   Date                    365 non-null    datetime64[ns]\n",
      " 1   Temperatura Media (C)   365 non-null    float64       \n",
      " 2   Temperatura Minima (C)  365 non-null    float64       \n",
      " 3   Temperatura Maxima (C)  365 non-null    float64       \n",
      " 4   Precipitacao (mm)       365 non-null    float64       \n",
      " 5   Final de Semana         365 non-null    float64       \n",
      " 6   Consumption in Litres   365 non-null    float64       \n",
      "dtypes: datetime64[ns](1), float64(6)\n",
      "memory usage: 22.8 KB\n"
     ]
    }
   ],
   "source": [
    "beer.info()"
   ]
  },
  {
   "cell_type": "code",
   "execution_count": 20,
   "id": "7bc65b8f",
   "metadata": {},
   "outputs": [],
   "source": [
    "beer[\"Year\"] = beer[\"Date\"].dt.year\n",
    "beer[\"Month\"] = beer[\"Date\"].dt.month\n",
    "beer[\"Day\"] = beer[\"Date\"].dt.day\n",
    "beer[\"Week\"] = beer[\"Date\"].dt.week"
   ]
  },
  {
   "cell_type": "code",
   "execution_count": 21,
   "id": "93f1f748",
   "metadata": {},
   "outputs": [
    {
     "data": {
      "text/html": [
       "<div>\n",
       "<style scoped>\n",
       "    .dataframe tbody tr th:only-of-type {\n",
       "        vertical-align: middle;\n",
       "    }\n",
       "\n",
       "    .dataframe tbody tr th {\n",
       "        vertical-align: top;\n",
       "    }\n",
       "\n",
       "    .dataframe thead th {\n",
       "        text-align: right;\n",
       "    }\n",
       "</style>\n",
       "<table border=\"1\" class=\"dataframe\">\n",
       "  <thead>\n",
       "    <tr style=\"text-align: right;\">\n",
       "      <th></th>\n",
       "      <th>Date</th>\n",
       "      <th>Temperatura Media (C)</th>\n",
       "      <th>Temperatura Minima (C)</th>\n",
       "      <th>Temperatura Maxima (C)</th>\n",
       "      <th>Precipitacao (mm)</th>\n",
       "      <th>Final de Semana</th>\n",
       "      <th>Consumption in Litres</th>\n",
       "      <th>Year</th>\n",
       "      <th>Month</th>\n",
       "      <th>Day</th>\n",
       "      <th>Week</th>\n",
       "    </tr>\n",
       "  </thead>\n",
       "  <tbody>\n",
       "    <tr>\n",
       "      <th>0</th>\n",
       "      <td>2015-01-01</td>\n",
       "      <td>27.30</td>\n",
       "      <td>23.9</td>\n",
       "      <td>32.5</td>\n",
       "      <td>0.0</td>\n",
       "      <td>0.0</td>\n",
       "      <td>25.461</td>\n",
       "      <td>2015</td>\n",
       "      <td>1</td>\n",
       "      <td>1</td>\n",
       "      <td>1</td>\n",
       "    </tr>\n",
       "    <tr>\n",
       "      <th>1</th>\n",
       "      <td>2015-01-02</td>\n",
       "      <td>27.02</td>\n",
       "      <td>24.5</td>\n",
       "      <td>33.5</td>\n",
       "      <td>0.0</td>\n",
       "      <td>0.0</td>\n",
       "      <td>28.972</td>\n",
       "      <td>2015</td>\n",
       "      <td>1</td>\n",
       "      <td>2</td>\n",
       "      <td>1</td>\n",
       "    </tr>\n",
       "    <tr>\n",
       "      <th>2</th>\n",
       "      <td>2015-01-03</td>\n",
       "      <td>24.82</td>\n",
       "      <td>22.4</td>\n",
       "      <td>29.9</td>\n",
       "      <td>0.0</td>\n",
       "      <td>1.0</td>\n",
       "      <td>30.814</td>\n",
       "      <td>2015</td>\n",
       "      <td>1</td>\n",
       "      <td>3</td>\n",
       "      <td>1</td>\n",
       "    </tr>\n",
       "    <tr>\n",
       "      <th>3</th>\n",
       "      <td>2015-01-04</td>\n",
       "      <td>23.98</td>\n",
       "      <td>21.5</td>\n",
       "      <td>28.6</td>\n",
       "      <td>1.2</td>\n",
       "      <td>1.0</td>\n",
       "      <td>29.799</td>\n",
       "      <td>2015</td>\n",
       "      <td>1</td>\n",
       "      <td>4</td>\n",
       "      <td>1</td>\n",
       "    </tr>\n",
       "    <tr>\n",
       "      <th>4</th>\n",
       "      <td>2015-01-05</td>\n",
       "      <td>23.82</td>\n",
       "      <td>21.0</td>\n",
       "      <td>28.3</td>\n",
       "      <td>0.0</td>\n",
       "      <td>0.0</td>\n",
       "      <td>28.900</td>\n",
       "      <td>2015</td>\n",
       "      <td>1</td>\n",
       "      <td>5</td>\n",
       "      <td>2</td>\n",
       "    </tr>\n",
       "  </tbody>\n",
       "</table>\n",
       "</div>"
      ],
      "text/plain": [
       "        Date  Temperatura Media (C)  Temperatura Minima (C)  \\\n",
       "0 2015-01-01                  27.30                    23.9   \n",
       "1 2015-01-02                  27.02                    24.5   \n",
       "2 2015-01-03                  24.82                    22.4   \n",
       "3 2015-01-04                  23.98                    21.5   \n",
       "4 2015-01-05                  23.82                    21.0   \n",
       "\n",
       "   Temperatura Maxima (C)  Precipitacao (mm)  Final de Semana  \\\n",
       "0                    32.5                0.0              0.0   \n",
       "1                    33.5                0.0              0.0   \n",
       "2                    29.9                0.0              1.0   \n",
       "3                    28.6                1.2              1.0   \n",
       "4                    28.3                0.0              0.0   \n",
       "\n",
       "   Consumption in Litres  Year  Month  Day  Week  \n",
       "0                 25.461  2015      1    1     1  \n",
       "1                 28.972  2015      1    2     1  \n",
       "2                 30.814  2015      1    3     1  \n",
       "3                 29.799  2015      1    4     1  \n",
       "4                 28.900  2015      1    5     2  "
      ]
     },
     "execution_count": 21,
     "metadata": {},
     "output_type": "execute_result"
    }
   ],
   "source": [
    "beer.head()"
   ]
  },
  {
   "cell_type": "code",
   "execution_count": 22,
   "id": "db15949b",
   "metadata": {},
   "outputs": [],
   "source": [
    "# All the Preprocessing Steps are done, we can now remove the date column if we want\n",
    "# Performing little EDA"
   ]
  },
  {
   "cell_type": "code",
   "execution_count": 23,
   "id": "2f700493",
   "metadata": {},
   "outputs": [
    {
     "name": "stdout",
     "output_type": "stream",
     "text": [
      "Year  -----> [2015]\n",
      "Month  -----> [ 1  2  3  4  5  6  7  8  9 10 11 12]\n",
      "Day  -----> [ 1  2  3  4  5  6  7  8  9 10 11 12 13 14 15 16 17 18 19 20 21 22 23 24\n",
      " 25 26 27 28 29 30 31]\n",
      "Week  -----> [ 1  2  3  4  5  6  7  8  9 10 11 12 13 14 15 16 17 18 19 20 21 22 23 24\n",
      " 25 26 27 28 29 30 31 32 33 34 35 36 37 38 39 40 41 42 43 44 45 46 47 48\n",
      " 49 50 51 52 53]\n"
     ]
    }
   ],
   "source": [
    "Date_column = [\"Year\",\"Month\",\"Day\",\"Week\"]\n",
    "\n",
    "for j in Date_column:\n",
    "    print(j , \" ----->\"  ,beer[j].unique())"
   ]
  },
  {
   "cell_type": "code",
   "execution_count": 24,
   "id": "562eb614",
   "metadata": {},
   "outputs": [],
   "source": [
    "# We found that there is only one year, we can drop the column as it wont be useful for us\n",
    "\n",
    "beer = beer.drop(\"Year\",axis=1)"
   ]
  },
  {
   "cell_type": "code",
   "execution_count": 25,
   "id": "0278d6a1",
   "metadata": {},
   "outputs": [
    {
     "data": {
      "text/plain": [
       "<AxesSubplot:xlabel='Week'>"
      ]
     },
     "execution_count": 25,
     "metadata": {},
     "output_type": "execute_result"
    },
    {
     "data": {
      "image/png": "[encoded data removed]",
      "text/plain": [
       "<Figure size 432x288 with 1 Axes>"
      ]
     },
     "metadata": {
      "needs_background": "light"
     },
     "output_type": "display_data"
    }
   ],
   "source": [
    "# Beer Consumption Weekly Basis\n",
    "beer.groupby(\"Week\")[\"Consumption in Litres\"].mean().plot()"
   ]
  },
  {
   "cell_type": "code",
   "execution_count": 26,
   "id": "b4aaaeb4",
   "metadata": {},
   "outputs": [
    {
     "data": {
      "text/plain": [
       "<AxesSubplot:xlabel='Month'>"
      ]
     },
     "execution_count": 26,
     "metadata": {},
     "output_type": "execute_result"
    },
    {
     "data": {
      "image/png": "[encoded data removed]",
      "text/plain": [
       "<Figure size 432x288 with 1 Axes>"
      ]
     },
     "metadata": {
      "needs_background": "light"
     },
     "output_type": "display_data"
    }
   ],
   "source": [
    "beer.groupby(\"Month\")[\"Consumption in Litres\"].mean().plot()"
   ]
  },
  {
   "cell_type": "code",
   "execution_count": 27,
   "id": "71db4979",
   "metadata": {},
   "outputs": [
    {
     "data": {
      "text/plain": [
       "<AxesSubplot:xlabel='Month', ylabel='Consumption in Litres'>"
      ]
     },
     "execution_count": 27,
     "metadata": {},
     "output_type": "execute_result"
    },
    {
     "data": {
      "image/png": "[encoded data removed]",
      "text/plain": [
       "<Figure size 432x288 with 1 Axes>"
      ]
     },
     "metadata": {
      "needs_background": "light"
     },
     "output_type": "display_data"
    }
   ],
   "source": [
    "sns.barplot(x= beer[\"Month\"],y=beer[\"Consumption in Litres\"],data=beer)\n",
    "\n"
   ]
  },
  {
   "cell_type": "code",
   "execution_count": 28,
   "id": "b8a4b251",
   "metadata": {},
   "outputs": [],
   "source": [
    "# January and December - were the productive month interms of beer sales since it is a hoilday season like xmas, new year.\n",
    "# As the summer sets in the beer consumption tends to decrease"
   ]
  },
  {
   "cell_type": "code",
   "execution_count": 29,
   "id": "45dd1346",
   "metadata": {},
   "outputs": [],
   "source": [
    "num_col = beer.select_dtypes(include = [\"float64\"])"
   ]
  },
  {
   "cell_type": "code",
   "execution_count": 30,
   "id": "50502155",
   "metadata": {},
   "outputs": [
    {
     "data": {
      "image/png": "[encoded data removed]",
      "text/plain": [
       "<Figure size 720x576 with 2 Axes>"
      ]
     },
     "metadata": {
      "needs_background": "light"
     },
     "output_type": "display_data"
    }
   ],
   "source": [
    "plt.figure(figsize=(10,8))\n",
    "sns.heatmap(num_col.corr(),annot=True)\n",
    "plt.show()"
   ]
  },
  {
   "cell_type": "code",
   "execution_count": 31,
   "id": "6a54be80",
   "metadata": {},
   "outputs": [
    {
     "data": {
      "image/png": "[encoded data removed]",
      "text/plain": [
       "<Figure size 432x288 with 1 Axes>"
      ]
     },
     "metadata": {
      "needs_background": "light"
     },
     "output_type": "display_data"
    },
    {
     "data": {
      "image/png": "[encoded data removed]",
      "text/plain": [
       "<Figure size 432x288 with 1 Axes>"
      ]
     },
     "metadata": {
      "needs_background": "light"
     },
     "output_type": "display_data"
    },
    {
     "data": {
      "image/png": "[encoded data removed]",
      "text/plain": [
       "<Figure size 432x288 with 1 Axes>"
      ]
     },
     "metadata": {
      "needs_background": "light"
     },
     "output_type": "display_data"
    },
    {
     "data": {
      "image/png": "[encoded data removed]",
      "text/plain": [
       "<Figure size 432x288 with 1 Axes>"
      ]
     },
     "metadata": {
      "needs_background": "light"
     },
     "output_type": "display_data"
    },
    {
     "data": {
      "image/png": "[encoded data removed]",
      "text/plain": [
       "<Figure size 432x288 with 1 Axes>"
      ]
     },
     "metadata": {
      "needs_background": "light"
     },
     "output_type": "display_data"
    },
    {
     "data": {
      "image/png": "[encoded data removed]",
      "text/plain": [
       "<Figure size 432x288 with 1 Axes>"
      ]
     },
     "metadata": {
      "needs_background": "light"
     },
     "output_type": "display_data"
    }
   ],
   "source": [
    "for j in num_col:\n",
    "    plt.scatter(x=beer[j],y=beer[\"Consumption in Litres\"])\n",
    "    plt.title(j)\n",
    "    plt.show()"
   ]
  },
  {
   "cell_type": "code",
   "execution_count": 32,
   "id": "85acc86c",
   "metadata": {},
   "outputs": [],
   "source": [
    "# From this we can see that:\n",
    "#When Temperature is Medium or Maximum, beer consumption rate increases\n",
    "\n",
    "# Whenever the rain/precipiation, beer consumptions goes for a toss.people dont drink beer that time\n",
    "\n",
    "# Dring the last few days of the month, when there is a salary crunch beer consumption redcudes probably(21 to 31)"
   ]
  },
  {
   "cell_type": "code",
   "execution_count": 33,
   "id": "053690de",
   "metadata": {},
   "outputs": [
    {
     "data": {
      "text/plain": [
       "<AxesSubplot:xlabel='Day'>"
      ]
     },
     "execution_count": 33,
     "metadata": {},
     "output_type": "execute_result"
    },
    {
     "data": {
      "image/png": "[encoded data removed]",
      "text/plain": [
       "<Figure size 432x288 with 1 Axes>"
      ]
     },
     "metadata": {
      "needs_background": "light"
     },
     "output_type": "display_data"
    }
   ],
   "source": [
    "# Which day of the year beer was consumed more:\n",
    "beer.groupby(\"Day\")[\"Consumption in Litres\"].sum().plot()"
   ]
  },
  {
   "cell_type": "code",
   "execution_count": 34,
   "id": "8758c90b",
   "metadata": {},
   "outputs": [
    {
     "data": {
      "image/png": "[encoded data removed]",
      "text/plain": [
       "<Figure size 432x288 with 1 Axes>"
      ]
     },
     "metadata": {
      "needs_background": "light"
     },
     "output_type": "display_data"
    },
    {
     "data": {
      "image/png": "[encoded data removed]",
      "text/plain": [
       "<Figure size 432x288 with 1 Axes>"
      ]
     },
     "metadata": {
      "needs_background": "light"
     },
     "output_type": "display_data"
    },
    {
     "data": {
      "image/png": "[encoded data removed]",
      "text/plain": [
       "<Figure size 432x288 with 1 Axes>"
      ]
     },
     "metadata": {
      "needs_background": "light"
     },
     "output_type": "display_data"
    },
    {
     "data": {
      "image/png": "[encoded data removed]",
      "text/plain": [
       "<Figure size 432x288 with 1 Axes>"
      ]
     },
     "metadata": {
      "needs_background": "light"
     },
     "output_type": "display_data"
    },
    {
     "data": {
      "image/png": "[encoded data removed]",
      "text/plain": [
       "<Figure size 432x288 with 1 Axes>"
      ]
     },
     "metadata": {
      "needs_background": "light"
     },
     "output_type": "display_data"
    },
    {
     "data": {
      "image/png": "[encoded data removed]",
      "text/plain": [
       "<Figure size 432x288 with 1 Axes>"
      ]
     },
     "metadata": {
      "needs_background": "light"
     },
     "output_type": "display_data"
    }
   ],
   "source": [
    "for j in num_col:\n",
    "    sns.boxplot(x=beer[j],y=beer[\"Consumption in Litres\"])\n",
    "    plt.title(j)\n",
    "    plt.show()"
   ]
  },
  {
   "cell_type": "code",
   "execution_count": 35,
   "id": "37bbe14e",
   "metadata": {},
   "outputs": [],
   "source": [
    "# We can drop the date column which is not required \n",
    "\n",
    "beer.drop(\"Date\",axis=1,inplace=True)"
   ]
  },
  {
   "cell_type": "code",
   "execution_count": null,
   "id": "f87e736a",
   "metadata": {},
   "outputs": [],
   "source": []
  },
  {
   "cell_type": "code",
   "execution_count": 36,
   "id": "e51bf4a1",
   "metadata": {},
   "outputs": [],
   "source": [
    "# Model Preparation and Building:\n",
    "\n",
    "X= beer.drop(\"Consumption in Litres\",axis=1)\n",
    "y =beer[\"Consumption in Litres\"]"
   ]
  },
  {
   "cell_type": "code",
   "execution_count": 37,
   "id": "8f2265c5",
   "metadata": {},
   "outputs": [],
   "source": [
    "scaler = StandardScaler()\n",
    "X = pd.DataFrame(scaler.fit_transform(X),columns=X.columns)"
   ]
  },
  {
   "cell_type": "code",
   "execution_count": 38,
   "id": "296df483",
   "metadata": {},
   "outputs": [
    {
     "data": {
      "text/html": [
       "<div>\n",
       "<style scoped>\n",
       "    .dataframe tbody tr th:only-of-type {\n",
       "        vertical-align: middle;\n",
       "    }\n",
       "\n",
       "    .dataframe tbody tr th {\n",
       "        vertical-align: top;\n",
       "    }\n",
       "\n",
       "    .dataframe thead th {\n",
       "        text-align: right;\n",
       "    }\n",
       "</style>\n",
       "<table border=\"1\" class=\"dataframe\">\n",
       "  <thead>\n",
       "    <tr style=\"text-align: right;\">\n",
       "      <th></th>\n",
       "      <th>Temperatura Media (C)</th>\n",
       "      <th>Temperatura Minima (C)</th>\n",
       "      <th>Temperatura Maxima (C)</th>\n",
       "      <th>Precipitacao (mm)</th>\n",
       "      <th>Final de Semana</th>\n",
       "      <th>Month</th>\n",
       "      <th>Day</th>\n",
       "      <th>Week</th>\n",
       "    </tr>\n",
       "  </thead>\n",
       "  <tbody>\n",
       "    <tr>\n",
       "      <th>0</th>\n",
       "      <td>1.912508</td>\n",
       "      <td>2.281333</td>\n",
       "      <td>1.365781</td>\n",
       "      <td>-0.419062</td>\n",
       "      <td>-0.631243</td>\n",
       "      <td>-1.602745</td>\n",
       "      <td>-1.673503</td>\n",
       "      <td>-1.726692</td>\n",
       "    </tr>\n",
       "    <tr>\n",
       "      <th>1</th>\n",
       "      <td>1.824340</td>\n",
       "      <td>2.493924</td>\n",
       "      <td>1.597722</td>\n",
       "      <td>-0.419062</td>\n",
       "      <td>-0.631243</td>\n",
       "      <td>-1.602745</td>\n",
       "      <td>-1.559818</td>\n",
       "      <td>-1.726692</td>\n",
       "    </tr>\n",
       "    <tr>\n",
       "      <th>2</th>\n",
       "      <td>1.131590</td>\n",
       "      <td>1.749853</td>\n",
       "      <td>0.762735</td>\n",
       "      <td>-0.419062</td>\n",
       "      <td>1.584177</td>\n",
       "      <td>-1.602745</td>\n",
       "      <td>-1.446134</td>\n",
       "      <td>-1.726692</td>\n",
       "    </tr>\n",
       "    <tr>\n",
       "      <th>3</th>\n",
       "      <td>0.867085</td>\n",
       "      <td>1.430966</td>\n",
       "      <td>0.461212</td>\n",
       "      <td>-0.322294</td>\n",
       "      <td>1.584177</td>\n",
       "      <td>-1.602745</td>\n",
       "      <td>-1.332449</td>\n",
       "      <td>-1.726692</td>\n",
       "    </tr>\n",
       "    <tr>\n",
       "      <th>4</th>\n",
       "      <td>0.816703</td>\n",
       "      <td>1.253806</td>\n",
       "      <td>0.391630</td>\n",
       "      <td>-0.419062</td>\n",
       "      <td>-0.631243</td>\n",
       "      <td>-1.602745</td>\n",
       "      <td>-1.218764</td>\n",
       "      <td>-1.660280</td>\n",
       "    </tr>\n",
       "    <tr>\n",
       "      <th>...</th>\n",
       "      <td>...</td>\n",
       "      <td>...</td>\n",
       "      <td>...</td>\n",
       "      <td>...</td>\n",
       "      <td>...</td>\n",
       "      <td>...</td>\n",
       "      <td>...</td>\n",
       "      <td>...</td>\n",
       "    </tr>\n",
       "    <tr>\n",
       "      <th>360</th>\n",
       "      <td>0.873383</td>\n",
       "      <td>1.289238</td>\n",
       "      <td>0.368436</td>\n",
       "      <td>0.677640</td>\n",
       "      <td>1.584177</td>\n",
       "      <td>1.587648</td>\n",
       "      <td>1.282303</td>\n",
       "      <td>1.660280</td>\n",
       "    </tr>\n",
       "    <tr>\n",
       "      <th>361</th>\n",
       "      <td>0.445137</td>\n",
       "      <td>1.289238</td>\n",
       "      <td>0.020525</td>\n",
       "      <td>-0.419062</td>\n",
       "      <td>-0.631243</td>\n",
       "      <td>1.587648</td>\n",
       "      <td>1.395988</td>\n",
       "      <td>1.726692</td>\n",
       "    </tr>\n",
       "    <tr>\n",
       "      <th>362</th>\n",
       "      <td>0.142846</td>\n",
       "      <td>1.005782</td>\n",
       "      <td>-0.582521</td>\n",
       "      <td>0.411528</td>\n",
       "      <td>-0.631243</td>\n",
       "      <td>1.587648</td>\n",
       "      <td>1.509672</td>\n",
       "      <td>1.726692</td>\n",
       "    </tr>\n",
       "    <tr>\n",
       "      <th>363</th>\n",
       "      <td>0.048380</td>\n",
       "      <td>0.651463</td>\n",
       "      <td>-0.976820</td>\n",
       "      <td>0.088969</td>\n",
       "      <td>-0.631243</td>\n",
       "      <td>1.587648</td>\n",
       "      <td>1.623357</td>\n",
       "      <td>1.726692</td>\n",
       "    </tr>\n",
       "    <tr>\n",
       "      <th>364</th>\n",
       "      <td>1.112696</td>\n",
       "      <td>0.970350</td>\n",
       "      <td>0.553989</td>\n",
       "      <td>-0.419062</td>\n",
       "      <td>-0.631243</td>\n",
       "      <td>1.587648</td>\n",
       "      <td>1.737042</td>\n",
       "      <td>1.726692</td>\n",
       "    </tr>\n",
       "  </tbody>\n",
       "</table>\n",
       "<p>365 rows × 8 columns</p>\n",
       "</div>"
      ],
      "text/plain": [
       "     Temperatura Media (C)  Temperatura Minima (C)  Temperatura Maxima (C)  \\\n",
       "0                 1.912508                2.281333                1.365781   \n",
       "1                 1.824340                2.493924                1.597722   \n",
       "2                 1.131590                1.749853                0.762735   \n",
       "3                 0.867085                1.430966                0.461212   \n",
       "4                 0.816703                1.253806                0.391630   \n",
       "..                     ...                     ...                     ...   \n",
       "360               0.873383                1.289238                0.368436   \n",
       "361               0.445137                1.289238                0.020525   \n",
       "362               0.142846                1.005782               -0.582521   \n",
       "363               0.048380                0.651463               -0.976820   \n",
       "364               1.112696                0.970350                0.553989   \n",
       "\n",
       "     Precipitacao (mm)  Final de Semana     Month       Day      Week  \n",
       "0            -0.419062        -0.631243 -1.602745 -1.673503 -1.726692  \n",
       "1            -0.419062        -0.631243 -1.602745 -1.559818 -1.726692  \n",
       "2            -0.419062         1.584177 -1.602745 -1.446134 -1.726692  \n",
       "3            -0.322294         1.584177 -1.602745 -1.332449 -1.726692  \n",
       "4            -0.419062        -0.631243 -1.602745 -1.218764 -1.660280  \n",
       "..                 ...              ...       ...       ...       ...  \n",
       "360           0.677640         1.584177  1.587648  1.282303  1.660280  \n",
       "361          -0.419062        -0.631243  1.587648  1.395988  1.726692  \n",
       "362           0.411528        -0.631243  1.587648  1.509672  1.726692  \n",
       "363           0.088969        -0.631243  1.587648  1.623357  1.726692  \n",
       "364          -0.419062        -0.631243  1.587648  1.737042  1.726692  \n",
       "\n",
       "[365 rows x 8 columns]"
      ]
     },
     "execution_count": 38,
     "metadata": {},
     "output_type": "execute_result"
    }
   ],
   "source": [
    "X"
   ]
  },
  {
   "cell_type": "markdown",
   "id": "ca43b8e1",
   "metadata": {},
   "source": [
    "# Training "
   ]
  },
  {
   "cell_type": "code",
   "execution_count": 39,
   "id": "f77e62b0",
   "metadata": {},
   "outputs": [],
   "source": [
    "X_train,X_test,y_train,y_test = train_test_split(X,y,test_size=0.3,random_state=100)"
   ]
  },
  {
   "cell_type": "code",
   "execution_count": 40,
   "id": "83cf6d11",
   "metadata": {},
   "outputs": [
    {
     "data": {
      "text/plain": [
       "(255,)"
      ]
     },
     "execution_count": 40,
     "metadata": {},
     "output_type": "execute_result"
    }
   ],
   "source": [
    "y_train.shape"
   ]
  },
  {
   "cell_type": "code",
   "execution_count": 41,
   "id": "a9072b87",
   "metadata": {},
   "outputs": [],
   "source": [
    "from sklearn.linear_model import LinearRegression\n",
    "from sklearn.tree import DecisionTreeRegressor\n",
    "from xgboost import XGBRegressor\n",
    "from sklearn.linear_model import Lasso\n",
    "from sklearn.linear_model import Ridge\n",
    "from sklearn.linear_model import HuberRegressor"
   ]
  },
  {
   "cell_type": "code",
   "execution_count": 62,
   "id": "ee4019fe",
   "metadata": {},
   "outputs": [],
   "source": [
    "models = {\n",
    "    \"Linear Regression\"     : LinearRegression(),\n",
    "    \"DecisionTreeRegressor\" : DecisionTreeRegressor(),\n",
    "    \"XGBOOSTREGRESSOR\"      : XGBRegressor(),\n",
    "    \"Ridge\"                 : Ridge(),\n",
    "    \"Lasso\"                 : Lasso(),\n",
    "    \"HuberRegresor\"         : HuberRegressor() \n",
    "    \n",
    "}"
   ]
  },
  {
   "cell_type": "code",
   "execution_count": 63,
   "id": "be1814d9",
   "metadata": {},
   "outputs": [],
   "source": [
    "for i in models.values():\n",
    "    i.fit(X_train,y_train)"
   ]
  },
  {
   "cell_type": "code",
   "execution_count": 64,
   "id": "fd4c657f",
   "metadata": {},
   "outputs": [
    {
     "name": "stdout",
     "output_type": "stream",
     "text": [
      "Linear Regression   R2 score 0.6161812899518284\n",
      "DecisionTreeRegressor   R2 score 0.17337199399238712\n",
      "XGBOOSTREGRESSOR   R2 score 0.5179348832822992\n",
      "Ridge   R2 score 0.6178065120931475\n",
      "Lasso   R2 score 0.5750385539916603\n",
      "HuberRegresor   R2 score 0.5994836630865283\n"
     ]
    }
   ],
   "source": [
    "for name,model in models.items():\n",
    "    print(name, \" \" , \"R2 score\" ,    model.score(X_test,y_test))"
   ]
  },
  {
   "cell_type": "code",
   "execution_count": null,
   "id": "c2bd91db",
   "metadata": {},
   "outputs": [],
   "source": []
  },
  {
   "cell_type": "code",
   "execution_count": null,
   "id": "a3fa3fee",
   "metadata": {},
   "outputs": [],
   "source": []
  },
  {
   "cell_type": "code",
   "execution_count": null,
   "id": "18f8b488",
   "metadata": {},
   "outputs": [],
   "source": [
    "# HyperParameter Tuning :\n",
    "\n",
    "# I will try to cover it in the next part."
   ]
  },
  {
   "cell_type": "code",
   "execution_count": null,
   "id": "9fdca0a1",
   "metadata": {},
   "outputs": [],
   "source": []
  }
 ],
 "metadata": {
  "kernelspec": {
   "display_name": "Python 3",
   "language": "python",
   "name": "python3"
  },
  "language_info": {
   "codemirror_mode": {
    "name": "ipython",
    "version": 3
   },
   "file_extension": ".py",
   "mimetype": "text/x-python",
   "name": "python",
   "nbconvert_exporter": "python",
   "pygments_lexer": "ipython3",
   "version": "3.8.8"
  }
 },
 "nbformat": 4,
 "nbformat_minor": 5
}
